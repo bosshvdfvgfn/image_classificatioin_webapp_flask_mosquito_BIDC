{
  "nbformat": 4,
  "nbformat_minor": 0,
  "metadata": {
    "colab": {
      "name": "Image classification.ipynb",
      "provenance": []
    },
    "kernelspec": {
      "name": "python3",
      "display_name": "Python 3"
    },
    "language_info": {
      "name": "python"
    }
  },
  "cells": [
    {
      "cell_type": "code",
      "metadata": {
        "id": "eeIFMpOyJbQI"
      },
      "source": [
        "from google.colab import drive\n",
        "drive.mount('/content/drive')"
      ],
      "execution_count": null,
      "outputs": []
    },
    {
      "cell_type": "code",
      "metadata": {
        "id": "SGFt790vJ4LF"
      },
      "source": [
        "cd /"
      ],
      "execution_count": null,
      "outputs": []
    },
    {
      "cell_type": "code",
      "metadata": {
        "colab": {
          "base_uri": "https://localhost:8080/"
        },
        "id": "XbO-aqbNLrX8",
        "outputId": "4c35bff0-27d5-40a5-fc4b-1d5a2bbd9a81"
      },
      "source": [
        "%tensorflow_version 1.x"
      ],
      "execution_count": null,
      "outputs": [
        {
          "output_type": "stream",
          "text": [
            "TensorFlow 1.x selected.\n"
          ],
          "name": "stdout"
        }
      ]
    },
    {
      "cell_type": "code",
      "metadata": {
        "colab": {
          "base_uri": "https://localhost:8080/"
        },
        "id": "0kWwADHcLz93",
        "outputId": "b6194748-2152-48b8-f564-c314b949e7f4"
      },
      "source": [
        "import tensorflow\n",
        "print(tensorflow.version)"
      ],
      "execution_count": null,
      "outputs": [
        {
          "output_type": "stream",
          "text": [
            "<module 'tensorflow._api.v1.version' from '/tensorflow-1.15.2/python3.7/tensorflow_core/_api/v1/version/__init__.py'>\n"
          ],
          "name": "stdout"
        }
      ]
    },
    {
      "cell_type": "markdown",
      "metadata": {
        "id": "0sVETO0sMKyu"
      },
      "source": [
        "**Data Preprocessing**"
      ]
    },
    {
      "cell_type": "code",
      "metadata": {
        "id": "vkXI2MOnL9A0"
      },
      "source": [
        "import cv2,os\n",
        "data_path=''\n",
        "categories=os.listdir(data_path)\n",
        "labels=[i for i in range(len(categories))]\n",
        "\n",
        "label_dict=dict(zip(categories,labels))\n",
        "\n",
        "print(label_dict)\n",
        "print(categories)\n",
        "print(labels)"
      ],
      "execution_count": null,
      "outputs": []
    },
    {
      "cell_type": "code",
      "metadata": {
        "id": "cNBLWRYyMQxk"
      },
      "source": [
        "img_size=100\n",
        "data=[]\n",
        "target=[]\n",
        "for category in categories:\n",
        "  folder_path=os.path.join(data_path,category)\n",
        "  img_names=os.listdir(folder_path)\n",
        "\n",
        "  for img_name in img_names:\n",
        "    img_path=os.path.join(folder_path,img_name)\n",
        "    img=cv2.imread(img_path)\n",
        "\n",
        "    try:\n",
        "      resized=cv2.resize(img(img_size,img_size))\n",
        "      data.append(resized)\n",
        "      target.append(label_dict[category])\n",
        "    except Exception as e:\n",
        "      print('Exception:',e)"
      ],
      "execution_count": null,
      "outputs": []
    },
    {
      "cell_type": "markdown",
      "metadata": {
        "id": "8khywoUERfRH"
      },
      "source": [
        "**Recale and assign catagorical lables**"
      ]
    },
    {
      "cell_type": "code",
      "metadata": {
        "id": "OyzOmJ-oRsW9"
      },
      "source": [
        "import numpy as np\n",
        "data=np.array(data)/255.0\n",
        "data=np.reshape(data,(data.shape[0],img_size,img_size,3))\n",
        "target=np.array(target)\n",
        "from keras.utils import np_utils\n",
        "new_target=np_utils.to_categorical(target)"
      ],
      "execution_count": null,
      "outputs": []
    },
    {
      "cell_type": "code",
      "metadata": {
        "id": "Uhu_ukYaSrm0"
      },
      "source": [
        "new_target.shape"
      ],
      "execution_count": null,
      "outputs": []
    },
    {
      "cell_type": "markdown",
      "metadata": {
        "id": "JwXfu_VKSuul"
      },
      "source": [
        "**CNN model**"
      ]
    },
    {
      "cell_type": "code",
      "metadata": {
        "id": "iZng5qxrSw2V"
      },
      "source": [
        "data.shape"
      ],
      "execution_count": null,
      "outputs": []
    },
    {
      "cell_type": "code",
      "metadata": {
        "id": "L2G8Ztm0S0_t"
      },
      "source": [
        "data.shape[1:]"
      ],
      "execution_count": null,
      "outputs": []
    },
    {
      "cell_type": "code",
      "metadata": {
        "id": "T9wkP1CDS54V"
      },
      "source": [
        "from keras.models import Sequential\n",
        "from keras.layers import Dense,Activation,Flatten,Dropout\n",
        "from keras.layers import Conv2D,MaxPooling2D\n",
        "from keras.callbacks import ModelCheckpoint\n",
        "\n",
        "model=Sequential()\n",
        "\n",
        "model.add(Conv2D(200,(3,3),input_shape=data.shape[1:]))\n",
        "model.add(Activation('relu'))\n",
        "model.add(MaxPooling2D(pool_size=(2,2)))\n",
        "\n",
        "model.add(Conv2D(100,(3,3)))\n",
        "model.add(Activation('relu'))\n",
        "model.add(MaxPooling2D(pool_size(2,2)))\n",
        "\n",
        "model.add(Flatten())\n",
        "model.add(dropout(0.5))\n",
        "model.add(Dense(50,activation='relu'))\n",
        "model.add(Dense(2,activation='softmax'))\n",
        "\n",
        "model.compile(loss='categorial_crossentropy',optimizer='adam',metrics=['accuracy'])"
      ],
      "execution_count": null,
      "outputs": []
    },
    {
      "cell_type": "markdown",
      "metadata": {
        "id": "9Q8SfzLMgZwv"
      },
      "source": [
        "**Splittinong data into traning and testing**"
      ]
    },
    {
      "cell_type": "code",
      "metadata": {
        "id": "Pa0aq2b1geEs"
      },
      "source": [
        "from sklearn.model_selection import train_test_split\n",
        "train_data,test_data,train_target,test_target=train_test_split(data,new_target,test_size=0.1)"
      ],
      "execution_count": null,
      "outputs": []
    },
    {
      "cell_type": "code",
      "metadata": {
        "id": "D1ZwweHL-760"
      },
      "source": [
        "train_data.shape"
      ],
      "execution_count": null,
      "outputs": []
    },
    {
      "cell_type": "code",
      "metadata": {
        "id": "OC_ggmsQ--N0"
      },
      "source": [
        "train_target.shape"
      ],
      "execution_count": null,
      "outputs": []
    },
    {
      "cell_type": "code",
      "metadata": {
        "id": "lcXy2GPI_BvM"
      },
      "source": [
        "history=model.fit(train_data,train_target,epochs=200,validation_split=0.2)"
      ],
      "execution_count": null,
      "outputs": []
    },
    {
      "cell_type": "code",
      "metadata": {
        "id": "c9rk_2Gw_P7t"
      },
      "source": [
        "model.save('model.h5')"
      ],
      "execution_count": null,
      "outputs": []
    },
    {
      "cell_type": "code",
      "metadata": {
        "id": "2WC-F95A_TJj"
      },
      "source": [
        "from matplotlib import pyplot as plt"
      ],
      "execution_count": null,
      "outputs": []
    },
    {
      "cell_type": "code",
      "metadata": {
        "id": "id3jooiz_YLe"
      },
      "source": [
        "N = 200\n",
        "plt.style.use(\"ggplot\")\n",
        "plt.figure()\n",
        "plt.plot(np.arange(0, N), history.history[\"loss\"], label=\"train_loss\")\n",
        "plt.plot(np.arange(0, N), history.history[\"val_loss\"], label=\"val_loss\")\n",
        "plt.plot(np.arange(0, N), history.history[\"accuracy\"], label=\"train_acc\")\n",
        "plt.plot(np.arange(0, N), history.history[\"val_accuracy\"], label=\"val_acc\")\n",
        "plt.title(\"Training Loss and Accuracy\")\n",
        "plt.xlabel(\"Epoch #\")\n",
        "plt.ylabel(\"Loss/Accuracy\")\n",
        "plt.legend(loc=\"center right\")\n",
        "plt.savefig(\"CNN_Model\")"
      ],
      "execution_count": null,
      "outputs": []
    }
  ]
}